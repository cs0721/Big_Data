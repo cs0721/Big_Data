{
 "cells": [
  {
   "cell_type": "markdown",
   "metadata": {
    "collapsed": false,
    "scrolled": false
   },
   "source": [
    "# FIT5148 - Distributed Databases and Big Data\n",
    "# Assignment 2 Task C1- Solution Workbook\n",
    "\n",
    "**Instructions:**\n",
    "\n",
    "    You will be using Python 3.\n",
    "    You can introduce new cells as necessary.\n",
    "\n",
    "**Your details**\n",
    "\n",
    "    Name: Moon Byeong Kim\n",
    "\n",
    "    Student ID: 26389126\n",
    "\n",
    "    Name: Hun Tae Lee\n",
    "    Student ID: 22568735\n",
    "\n",
    "Let's get started"
   ]
  },
  {
   "cell_type": "markdown",
   "metadata": {},
   "source": [
    "## Import Libraries"
   ]
  },
  {
   "cell_type": "code",
   "execution_count": 1,
   "metadata": {
    "collapsed": true
   },
   "outputs": [],
   "source": [
    "import csv\n",
    "import socket\n",
    "import time"
   ]
  },
  {
   "cell_type": "code",
   "execution_count": 2,
   "metadata": {
    "collapsed": false
   },
   "outputs": [
    {
     "name": "stdout",
     "output_type": "stream",
     "text": [
      "Sending Data...\n",
      "Sending Data...\n",
      "Sending Data...\n",
      "Sending Data...\n",
      "Sending Data...\n",
      "Sending Data...\n",
      "Sending Data...\n",
      "Sending Data...\n",
      "Sending Data...\n",
      "Sending Data...\n",
      "Sending Data...\n",
      "Sending Data...\n",
      "Sending Data...\n",
      "Sending Data...\n",
      "Sending Data...\n",
      "Sending Data...\n",
      "Sending Data...\n",
      "Sending Data...\n",
      "Sending Data...\n",
      "Sending Data...\n",
      "Sending Data...\n",
      "Sending Data...\n",
      "Sending Data...\n"
     ]
    },
    {
     "ename": "KeyboardInterrupt",
     "evalue": "",
     "output_type": "error",
     "traceback": [
      "\u001b[0;31m---------------------------------------------------------------------------\u001b[0m",
      "\u001b[0;31mKeyboardInterrupt\u001b[0m                         Traceback (most recent call last)",
      "\u001b[0;32m<ipython-input-2-75f289b2af96>\u001b[0m in \u001b[0;36m<module>\u001b[0;34m()\u001b[0m\n\u001b[1;32m     68\u001b[0m             \u001b[0;31m#increase index\u001b[0m\u001b[0;34m\u001b[0m\u001b[0;34m\u001b[0m\u001b[0m\n\u001b[1;32m     69\u001b[0m             \u001b[0mfData_index\u001b[0m\u001b[0;34m+=\u001b[0m\u001b[0;36m1\u001b[0m\u001b[0;34m\u001b[0m\u001b[0m\n\u001b[0;32m---> 70\u001b[0;31m         \u001b[0mtime\u001b[0m\u001b[0;34m.\u001b[0m\u001b[0msleep\u001b[0m\u001b[0;34m(\u001b[0m\u001b[0midle\u001b[0m\u001b[0;34m)\u001b[0m\u001b[0;34m\u001b[0m\u001b[0m\n\u001b[0m\u001b[1;32m     71\u001b[0m     \u001b[0mconn\u001b[0m\u001b[0;34m.\u001b[0m\u001b[0mclose\u001b[0m\u001b[0;34m(\u001b[0m\u001b[0;34m)\u001b[0m\u001b[0;34m\u001b[0m\u001b[0m\n",
      "\u001b[0;31mKeyboardInterrupt\u001b[0m: "
     ]
    }
   ],
   "source": [
    "#THIS FILE IS TO SEND   \n",
    "#initialise cData\n",
    "cData=[]\n",
    "# Read the 'ClimateData-Part2.csv file\n",
    "with open('ClimateData-Part2.csv','r') as c:\n",
    "    reader = csv.reader(c)\n",
    "    i = 0\n",
    "    for line in reader:\n",
    "        #ignore header\n",
    "        if i == 0:\n",
    "            i += 1\n",
    "        else:\n",
    "            #appending data to cData, connect by ,\n",
    "            cData.append(','.join(line))\n",
    "\n",
    "#initialise fData\n",
    "fData=[]\n",
    "# Read the 'FireData-Part2.csv file\n",
    "with open('FireData-Part2.csv','r') as f:\n",
    "    reader = csv.reader(f)\n",
    "    i = 0\n",
    "    for line in reader:\n",
    "        #ignore header\n",
    "        if i == 0:\n",
    "            i += 1\n",
    "        else:\n",
    "            #appending data to fData, connect by ,\n",
    "            fData.append(','.join(line))\n",
    "            \n",
    "            \n",
    "#port number: can be changed. Make sure that in receive file, has same port number\n",
    "port = 9999\n",
    "host = 'localhost'\n",
    "idle = 1 #sleep every 1 second\n",
    "#index for fData\n",
    "fData_index = 0\n",
    "#index for cData\n",
    "cData_index = 0\n",
    "\n",
    "#initialising timestamp\n",
    "timestamp = 0\n",
    "\n",
    "#creating an INET, STREAMing socket\n",
    "s = socket.socket(socket.AF_INET,socket.SOCK_STREAM)\n",
    "#using specific local endpoint by calling bind\n",
    "s.bind((host,port))\n",
    "#listening incoming connection attempt\n",
    "s.listen(1)\n",
    "running = True\n",
    "\n",
    "while running:\n",
    "    conn, addr = s.accept()\n",
    "    while cData_index < len(cData):\n",
    "        #set the timestamp. will be used to join fire and climate data.\n",
    "        timestamp = int(time.time())\n",
    "        #send a cData by converting it to bytes, append timestamp.\n",
    "        conn.sendall(bytes(cData[cData_index]+','+str(timestamp)+'\\n','utf8'))\n",
    "        print(\"Sending Data...\")\n",
    "        #increase index\n",
    "        cData_index+=1\n",
    "        #send 5 fData\n",
    "        for i in range(5):\n",
    "            if fData_index < len(fData):\n",
    "                #send a fData by converting it to bytes, append timestamp.\n",
    "                conn.sendall(bytes(fData[fData_index]+','+str(timestamp)+'\\n','utf8'))\n",
    "            else:\n",
    "                break\n",
    "            #increase index\n",
    "            fData_index+=1\n",
    "        time.sleep(idle)\n",
    "    conn.close()"
   ]
  },
  {
   "cell_type": "code",
   "execution_count": null,
   "metadata": {
    "collapsed": true
   },
   "outputs": [],
   "source": []
  }
 ],
 "metadata": {
  "kernelspec": {
   "display_name": "Python 3",
   "language": "python",
   "name": "python3"
  },
  "language_info": {
   "codemirror_mode": {
    "name": "ipython",
    "version": 3
   },
   "file_extension": ".py",
   "mimetype": "text/x-python",
   "name": "python",
   "nbconvert_exporter": "python",
   "pygments_lexer": "ipython3",
   "version": "3.5.2"
  }
 },
 "nbformat": 4,
 "nbformat_minor": 1
}
